{
 "cells": [
  {
   "cell_type": "code",
   "execution_count": 3,
   "metadata": {
    "executionInfo": {
     "elapsed": 4297,
     "status": "ok",
     "timestamp": 1745918494428,
     "user": {
      "displayName": "Aman prakash Singh",
      "userId": "10795255997562671376"
     },
     "user_tz": -330
    },
    "id": "BLWLQr3_2T2w"
   },
   "outputs": [],
   "source": [
    "import nltk\n",
    "import re\n",
    "from nltk.tokenize import sent_tokenize\n",
    "from nltk.tokenize import word_tokenize\n",
    "from nltk.corpus import stopwords\n",
    "from nltk.stem import PorterStemmer\n",
    "from nltk.stem import WordNetLemmatizer"
   ]
  },
  {
   "cell_type": "code",
   "execution_count": 4,
   "metadata": {
    "colab": {
     "base_uri": "https://localhost:8080/"
    },
    "executionInfo": {
     "elapsed": 1569,
     "status": "ok",
     "timestamp": 1745918530308,
     "user": {
      "displayName": "Aman prakash Singh",
      "userId": "10795255997562671376"
     },
     "user_tz": -330
    },
    "id": "B7NViWTF2cx6",
    "outputId": "1bee2268-0c46-42a4-897c-b82a85217bbd"
   },
   "outputs": [
    {
     "name": "stderr",
     "output_type": "stream",
     "text": [
      "[nltk_data] Downloading package punkt to\n",
      "[nltk_data]     C:\\Users\\ASUS\\AppData\\Roaming\\nltk_data...\n",
      "[nltk_data]   Unzipping tokenizers\\punkt.zip.\n",
      "[nltk_data] Downloading package stopwords to\n",
      "[nltk_data]     C:\\Users\\ASUS\\AppData\\Roaming\\nltk_data...\n",
      "[nltk_data]   Unzipping corpora\\stopwords.zip.\n",
      "[nltk_data] Downloading package wordnet to\n",
      "[nltk_data]     C:\\Users\\ASUS\\AppData\\Roaming\\nltk_data...\n",
      "[nltk_data] Downloading package averaged_perceptron_tagger to\n",
      "[nltk_data]     C:\\Users\\ASUS\\AppData\\Roaming\\nltk_data...\n",
      "[nltk_data]   Unzipping taggers\\averaged_perceptron_tagger.zip.\n",
      "[nltk_data] Downloading package punkt_tab to\n",
      "[nltk_data]     C:\\Users\\ASUS\\AppData\\Roaming\\nltk_data...\n",
      "[nltk_data]   Unzipping tokenizers\\punkt_tab.zip.\n",
      "[nltk_data] Downloading package averaged_perceptron_tagger_eng to\n",
      "[nltk_data]     C:\\Users\\ASUS\\AppData\\Roaming\\nltk_data...\n",
      "[nltk_data]   Unzipping taggers\\averaged_perceptron_tagger_eng.zip.\n"
     ]
    },
    {
     "data": {
      "text/plain": [
       "True"
      ]
     },
     "execution_count": 4,
     "metadata": {},
     "output_type": "execute_result"
    }
   ],
   "source": [
    "nltk.download('punkt')  # Downloads the Punkt tokenizer models, used for sentence and word tokenization\n",
    "nltk.download('stopwords')  # Downloads the list of stopwords for different languages\n",
    "nltk.download('wordnet')  # Downloads the WordNet lexical database for lemmatization\n",
    "nltk.download('averaged_perceptron_tagger')  # Downloads the part-of-speech tagger model for POS tagging\n",
    "nltk.download('punkt_tab')  # Downloads the Punkt tokenizer models specifically for tab-delimited files (less common)\n",
    "nltk.download('averaged_perceptron_tagger_eng')  # Downloads the English-specific POS tagger model (less common)"
   ]
  },
  {
   "cell_type": "code",
   "execution_count": 5,
   "metadata": {
    "executionInfo": {
     "elapsed": 5,
     "status": "ok",
     "timestamp": 1745918578199,
     "user": {
      "displayName": "Aman prakash Singh",
      "userId": "10795255997562671376"
     },
     "user_tz": -330
    },
    "id": "PEnI3XKB2otB"
   },
   "outputs": [],
   "source": [
    "text= '''Tokenization is the first step in text analytics. The\n",
    "process of breaking down a text paragraph into smaller chunks\n",
    "such as words or sentences is called Tokenization.'''"
   ]
  },
  {
   "cell_type": "markdown",
   "metadata": {
    "id": "uqs427wt27k_"
   },
   "source": [
    "Tokenization"
   ]
  },
  {
   "cell_type": "code",
   "execution_count": 6,
   "metadata": {
    "colab": {
     "base_uri": "https://localhost:8080/"
    },
    "executionInfo": {
     "elapsed": 9,
     "status": "ok",
     "timestamp": 1745918653471,
     "user": {
      "displayName": "Aman prakash Singh",
      "userId": "10795255997562671376"
     },
     "user_tz": -330
    },
    "id": "gfYLtDDH20w7",
    "outputId": "37063fe9-9ff2-49fa-d215-7e3c4163701d"
   },
   "outputs": [
    {
     "name": "stdout",
     "output_type": "stream",
     "text": [
      "['Tokenization is the first step in text analytics.', 'The\\nprocess of breaking down a text paragraph into smaller chunks\\nsuch as words or sentences is called Tokenization.']\n"
     ]
    }
   ],
   "source": [
    "#Sentence Tokenization\n",
    "tokenized_text= sent_tokenize(text)\n",
    "print(tokenized_text)"
   ]
  },
  {
   "cell_type": "code",
   "execution_count": 7,
   "metadata": {
    "colab": {
     "base_uri": "https://localhost:8080/"
    },
    "executionInfo": {
     "elapsed": 74,
     "status": "ok",
     "timestamp": 1745918668180,
     "user": {
      "displayName": "Aman prakash Singh",
      "userId": "10795255997562671376"
     },
     "user_tz": -330
    },
    "id": "OOuazkkZ3FAa",
    "outputId": "4f7825e4-5bf7-44b1-b6ab-6b001f74eef1"
   },
   "outputs": [
    {
     "name": "stdout",
     "output_type": "stream",
     "text": [
      "['Tokenization', 'is', 'the', 'first', 'step', 'in', 'text', 'analytics', '.', 'The', 'process', 'of', 'breaking', 'down', 'a', 'text', 'paragraph', 'into', 'smaller', 'chunks', 'such', 'as', 'words', 'or', 'sentences', 'is', 'called', 'Tokenization', '.']\n"
     ]
    }
   ],
   "source": [
    "#Word Tokenization\n",
    "tokenized_word=word_tokenize(text)\n",
    "print(tokenized_word)"
   ]
  },
  {
   "cell_type": "markdown",
   "metadata": {
    "id": "pEOIWrk33eLD"
   },
   "source": [
    "Removing Punctuations and Stop Word"
   ]
  },
  {
   "cell_type": "code",
   "execution_count": 8,
   "metadata": {
    "colab": {
     "base_uri": "https://localhost:8080/"
    },
    "executionInfo": {
     "elapsed": 13,
     "status": "ok",
     "timestamp": 1745918680920,
     "user": {
      "displayName": "Aman prakash Singh",
      "userId": "10795255997562671376"
     },
     "user_tz": -330
    },
    "id": "v6WkGc_i3Kuj",
    "outputId": "a61b4689-05e6-40fe-8168-f2fdbcba6642"
   },
   "outputs": [
    {
     "name": "stdout",
     "output_type": "stream",
     "text": [
      "{\"wasn't\", \"it'd\", \"aren't\", \"hasn't\", 'shan', 'couldn', 'these', 'does', 'how', 'by', 'about', \"weren't\", 'haven', \"didn't\", 'very', 'yourself', 'all', 'the', 'where', 'has', 'its', 'such', 'wouldn', 'their', \"i've\", 'ma', 'to', 'she', 'those', 'won', \"hadn't\", \"mightn't\", 'whom', 'doesn', \"couldn't\", 'i', 'now', 'what', \"i'm\", 'your', 'our', 'here', \"she'd\", 'o', 'should', 'was', 'few', 'm', \"he's\", \"she'll\", 'didn', \"shouldn't\", 'as', 'herself', \"you've\", \"it'll\", \"they'll\", \"shan't\", 'who', \"doesn't\", 'a', 'most', 'they', 'were', 'then', 'wasn', 'during', 'or', \"don't\", \"he'd\", 'above', 're', 'because', 'just', \"i'll\", \"you'll\", 'an', \"they'd\", 'more', 'it', 'which', 'them', 'both', \"should've\", 'you', 'and', 'mustn', 'if', 'aren', \"mustn't\", 'be', \"you'd\", 'yourselves', 'but', 'down', 'from', 'any', 'mightn', 'having', 'themselves', 'is', 'until', 'him', 'had', 'between', 'have', 'myself', \"she's\", 'are', 'don', 'before', 'so', 'against', 'yours', 'ain', 'will', 'can', \"he'll\", 'out', 'than', 'own', \"we'll\", 'do', 'himself', 'itself', 'ours', 'for', 'theirs', 'same', 'hers', \"we've\", 'only', 'he', 'too', 'in', 'after', 'ourselves', 'this', 'y', 'his', 'hadn', 'once', 'that', 'each', 'isn', 'over', 'other', \"they've\", \"they're\", 'at', 'off', 'on', \"that'll\", 'll', 've', \"we'd\", \"won't\", 'into', 'been', 'further', 'my', \"wouldn't\", 'needn', 'up', \"i'd\", 'again', 'when', 'being', 'below', \"you're\", 'through', 'd', 'of', 'with', 'her', 'me', 'why', 'there', 't', 'under', 'shouldn', \"isn't\", 'not', 'we', 'some', \"we're\", 'hasn', \"haven't\", \"it's\", 'doing', 's', 'while', 'nor', 'weren', 'did', 'no', \"needn't\", 'am'}\n"
     ]
    }
   ],
   "source": [
    "# print stop words of English\n",
    "stop_words=set(stopwords.words(\"english\"))\n",
    "print(stop_words)"
   ]
  },
  {
   "cell_type": "code",
   "execution_count": 9,
   "metadata": {
    "colab": {
     "base_uri": "https://localhost:8080/"
    },
    "executionInfo": {
     "elapsed": 13,
     "status": "ok",
     "timestamp": 1745918715809,
     "user": {
      "displayName": "Aman prakash Singh",
      "userId": "10795255997562671376"
     },
     "user_tz": -330
    },
    "id": "MxIq1HuG3N2O",
    "outputId": "cbe37574-6e80-4fdb-8132-4ee160154191"
   },
   "outputs": [
    {
     "name": "stdout",
     "output_type": "stream",
     "text": [
      "Tokenized Sentence: ['how', 'to', 'remove', 'stop', 'words', 'with', 'nltk', 'library', 'in', 'python']\n",
      "Filterd Sentence: ['remove', 'stop', 'words', 'nltk', 'library', 'python']\n"
     ]
    }
   ],
   "source": [
    "text= \"How to remove stop words with NLTK library in Python?\"\n",
    "text= re.sub('[^a-zA-Z]', ' ',text)\n",
    "tokens = word_tokenize(text.lower())\n",
    "filtered_text=[]\n",
    "for w in tokens:\n",
    "  if w not in stop_words:\n",
    "    filtered_text.append(w)\n",
    "print(\"Tokenized Sentence:\",tokens)\n",
    "print(\"Filterd Sentence:\",filtered_text)"
   ]
  },
  {
   "cell_type": "markdown",
   "metadata": {
    "id": "I0zUHnrl3ita"
   },
   "source": [
    "Perform Stemming"
   ]
  },
  {
   "cell_type": "code",
   "execution_count": 10,
   "metadata": {
    "colab": {
     "base_uri": "https://localhost:8080/"
    },
    "executionInfo": {
     "elapsed": 9,
     "status": "ok",
     "timestamp": 1745918811378,
     "user": {
      "displayName": "Aman prakash Singh",
      "userId": "10795255997562671376"
     },
     "user_tz": -330
    },
    "id": "np5Ov0Pd3UGo",
    "outputId": "039ff6f1-599b-431e-b18b-57605f439ed6"
   },
   "outputs": [
    {
     "name": "stdout",
     "output_type": "stream",
     "text": [
      "wait\n",
      "wait\n",
      "wait\n",
      "wait\n"
     ]
    }
   ],
   "source": [
    "e_words= [\"wait\", \"waiting\", \"waited\", \"waits\"]\n",
    "ps =PorterStemmer()\n",
    "for w in e_words:\n",
    "  rootWord=ps.stem(w)\n",
    "  print(rootWord)"
   ]
  },
  {
   "cell_type": "markdown",
   "metadata": {
    "id": "Lqwkwj5R303L"
   },
   "source": [
    "Perform Lemmatization"
   ]
  },
  {
   "cell_type": "code",
   "execution_count": 11,
   "metadata": {
    "colab": {
     "base_uri": "https://localhost:8080/"
    },
    "executionInfo": {
     "elapsed": 4236,
     "status": "ok",
     "timestamp": 1745918874592,
     "user": {
      "displayName": "Aman prakash Singh",
      "userId": "10795255997562671376"
     },
     "user_tz": -330
    },
    "id": "lILWHxHO3ptk",
    "outputId": "03074973-c23e-4ce0-e16f-b2d017d44d90"
   },
   "outputs": [
    {
     "name": "stdout",
     "output_type": "stream",
     "text": [
      "Lemma for studies is study\n",
      "Lemma for studying is studying\n",
      "Lemma for cries is cry\n",
      "Lemma for cry is cry\n"
     ]
    }
   ],
   "source": [
    "wordnet_lemmatizer = WordNetLemmatizer()\n",
    "text = \"studies studying cries cry\"\n",
    "tokenization = nltk.word_tokenize(text)\n",
    "for w in tokenization:\n",
    "  print(\"Lemma for {} is {}\".format(w,wordnet_lemmatizer.lemmatize(w)))"
   ]
  },
  {
   "cell_type": "markdown",
   "metadata": {
    "id": "rlRmeaCY4Jop"
   },
   "source": [
    "Apply POS Tagging to text"
   ]
  },
  {
   "cell_type": "code",
   "execution_count": 12,
   "metadata": {
    "colab": {
     "base_uri": "https://localhost:8080/"
    },
    "executionInfo": {
     "elapsed": 329,
     "status": "ok",
     "timestamp": 1745918923318,
     "user": {
      "displayName": "Aman prakash Singh",
      "userId": "10795255997562671376"
     },
     "user_tz": -330
    },
    "id": "6JPi5pVQ38Fn",
    "outputId": "578e82db-e19b-49c9-b87c-879608584a3a"
   },
   "outputs": [
    {
     "name": "stdout",
     "output_type": "stream",
     "text": [
      "[('The', 'DT')]\n",
      "[('pink', 'NN')]\n",
      "[('sweater', 'NN')]\n",
      "[('fit', 'NN')]\n",
      "[('her', 'PRP$')]\n",
      "[('perfectly', 'RB')]\n"
     ]
    }
   ],
   "source": [
    "data=\"The pink sweater fit her perfectly\"\n",
    "words=word_tokenize(data)\n",
    "for word in words:\n",
    "  print(nltk.pos_tag([word]))"
   ]
  },
  {
   "cell_type": "markdown",
   "metadata": {
    "id": "fQtSEdR65JP6"
   },
   "source": [
    "TF-IDF Representation of Documents"
   ]
  },
  {
   "cell_type": "code",
   "execution_count": 13,
   "metadata": {
    "executionInfo": {
     "elapsed": 4,
     "status": "ok",
     "timestamp": 1745919204602,
     "user": {
      "displayName": "Aman prakash Singh",
      "userId": "10795255997562671376"
     },
     "user_tz": -330
    },
    "id": "L1PgqqwY4Tq_"
   },
   "outputs": [],
   "source": [
    "from sklearn.feature_extraction.text import TfidfVectorizer"
   ]
  },
  {
   "cell_type": "code",
   "execution_count": 14,
   "metadata": {
    "executionInfo": {
     "elapsed": 417,
     "status": "ok",
     "timestamp": 1745919228273,
     "user": {
      "displayName": "Aman prakash Singh",
      "userId": "10795255997562671376"
     },
     "user_tz": -330
    },
    "id": "i1gNnvxZ5NpK"
   },
   "outputs": [],
   "source": [
    "# Multiple sample documents (for IDF to make sense)\n",
    "documents = [\n",
    "    \"Natural Language Processing is an interesting field.\",\n",
    "    \"Machine learning and AI are transforming the world.\",\n",
    "    \"Python is widely used for data science and AI.\",\n",
    "    \"Natural Language Processing and machine learning are core parts of AI.\"\n",
    "]"
   ]
  },
  {
   "cell_type": "code",
   "execution_count": 15,
   "metadata": {
    "executionInfo": {
     "elapsed": 4,
     "status": "ok",
     "timestamp": 1745919256422,
     "user": {
      "displayName": "Aman prakash Singh",
      "userId": "10795255997562671376"
     },
     "user_tz": -330
    },
    "id": "S9zxWymQ5TV8"
   },
   "outputs": [],
   "source": [
    "# Create TF-IDF vectorizer\n",
    "vectorizer = TfidfVectorizer(stop_words='english')\n",
    "\n",
    "# Transform documents\n",
    "tfidf_matrix = vectorizer.fit_transform(documents)"
   ]
  },
  {
   "cell_type": "code",
   "execution_count": 16,
   "metadata": {
    "colab": {
     "base_uri": "https://localhost:8080/"
    },
    "executionInfo": {
     "elapsed": 210,
     "status": "ok",
     "timestamp": 1745919282435,
     "user": {
      "displayName": "Aman prakash Singh",
      "userId": "10795255997562671376"
     },
     "user_tz": -330
    },
    "id": "mv9NVRNm5aUE",
    "outputId": "51d17b29-3623-4793-c3de-ee8d1b53274e"
   },
   "outputs": [
    {
     "name": "stdout",
     "output_type": "stream",
     "text": [
      "\n",
      "Feature Names: ['ai' 'core' 'data' 'field' 'interesting' 'language' 'learning' 'machine'\n",
      " 'natural' 'parts' 'processing' 'python' 'science' 'transforming' 'used'\n",
      " 'widely' 'world']\n",
      "\n",
      "TF-IDF Matrix:\n",
      " [[0.         0.         0.         0.50867187 0.50867187 0.40104275\n",
      "  0.         0.         0.40104275 0.         0.40104275 0.\n",
      "  0.         0.         0.         0.         0.        ]\n",
      " [0.33406745 0.         0.         0.         0.         0.\n",
      "  0.41263976 0.41263976 0.         0.         0.         0.\n",
      "  0.         0.52338122 0.         0.         0.52338122]\n",
      " [0.27448674 0.         0.43003652 0.         0.         0.\n",
      "  0.         0.         0.         0.         0.         0.43003652\n",
      "  0.43003652 0.         0.43003652 0.43003652 0.        ]\n",
      " [0.27178692 0.42580674 0.         0.         0.         0.33571092\n",
      "  0.33571092 0.33571092 0.33571092 0.42580674 0.33571092 0.\n",
      "  0.         0.         0.         0.         0.        ]]\n"
     ]
    }
   ],
   "source": [
    "# Show feature names and TF-IDF matrix\n",
    "print(\"\\nFeature Names:\", vectorizer.get_feature_names_out())\n",
    "print(\"\\nTF-IDF Matrix:\\n\", tfidf_matrix.toarray())"
   ]
  },
  {
   "cell_type": "code",
   "execution_count": 17,
   "metadata": {
    "id": "JnQ2b-wo5gp5"
   },
   "outputs": [
    {
     "name": "stdout",
     "output_type": "stream",
     "text": [
      "Requirement already satisfied: nltk in c:\\users\\asus\\appdata\\local\\programs\\python\\python313\\lib\\site-packages (3.9.1)\n",
      "Requirement already satisfied: click in c:\\users\\asus\\appdata\\local\\programs\\python\\python313\\lib\\site-packages (from nltk) (8.1.8)\n",
      "Requirement already satisfied: joblib in c:\\users\\asus\\appdata\\local\\programs\\python\\python313\\lib\\site-packages (from nltk) (1.4.2)\n",
      "Requirement already satisfied: regex>=2021.8.3 in c:\\users\\asus\\appdata\\local\\programs\\python\\python313\\lib\\site-packages (from nltk) (2024.11.6)\n",
      "Requirement already satisfied: tqdm in c:\\users\\asus\\appdata\\local\\programs\\python\\python313\\lib\\site-packages (from nltk) (4.67.1)\n",
      "Requirement already satisfied: colorama in c:\\users\\asus\\appdata\\local\\programs\\python\\python313\\lib\\site-packages (from click->nltk) (0.4.6)\n",
      "Note: you may need to restart the kernel to use updated packages.\n"
     ]
    },
    {
     "name": "stderr",
     "output_type": "stream",
     "text": [
      "\n",
      "[notice] A new release of pip is available: 25.0.1 -> 25.1.1\n",
      "[notice] To update, run: C:\\Users\\ASUS\\AppData\\Local\\Programs\\Python\\Python313\\python.exe -m pip install --upgrade pip\n"
     ]
    }
   ],
   "source": [
    "pip install nltk"
   ]
  },
  {
   "cell_type": "code",
   "execution_count": null,
   "metadata": {},
   "outputs": [],
   "source": []
  },
  {
   "cell_type": "code",
   "execution_count": null,
   "metadata": {},
   "outputs": [],
   "source": []
  }
 ],
 "metadata": {
  "colab": {
   "authorship_tag": "ABX9TyNHfFtDNa9AtIQobxCRns75",
   "provenance": []
  },
  "kernelspec": {
   "display_name": "Python 3 (ipykernel)",
   "language": "python",
   "name": "python3"
  },
  "language_info": {
   "codemirror_mode": {
    "name": "ipython",
    "version": 3
   },
   "file_extension": ".py",
   "mimetype": "text/x-python",
   "name": "python",
   "nbconvert_exporter": "python",
   "pygments_lexer": "ipython3",
   "version": "3.13.1"
  }
 },
 "nbformat": 4,
 "nbformat_minor": 4
}
